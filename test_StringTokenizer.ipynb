{
 "cells": [
  {
   "cell_type": "code",
   "execution_count": 1,
   "id": "13275c4e-3f5b-48e2-a071-baa722276f54",
   "metadata": {},
   "outputs": [],
   "source": [
    "from src.StringTokenizer import GenerateRegexPatterns, TokenizeString"
   ]
  },
  {
   "cell_type": "code",
   "execution_count": 4,
   "id": "069bb986-3d18-4b39-b2b4-a693a5f13da3",
   "metadata": {},
   "outputs": [],
   "source": [
    "grp = GenerateRegexPatterns()\n",
    "ts = TokenizeString()"
   ]
  },
  {
   "cell_type": "code",
   "execution_count": 3,
   "id": "157f579f-f3b5-4716-ab5a-359b936b0bd6",
   "metadata": {},
   "outputs": [
    {
     "data": {
      "text/plain": [
       "'([A-Z]+[a-z]+[0-9]+|[a-z]+[0-9]+|[A-Z]+[a-z]+|[a-z]+|[0-9]+)'"
      ]
     },
     "execution_count": 3,
     "metadata": {},
     "output_type": "execute_result"
    }
   ],
   "source": [
    "grp.generate_pattern_or()"
   ]
  },
  {
   "cell_type": "code",
   "execution_count": 5,
   "id": "115a06d5-276f-4617-ad3a-97d9faa5546e",
   "metadata": {},
   "outputs": [
    {
     "ename": "TypeError",
     "evalue": "infer_delimiters() missing 1 required positional argument: 'pattern'",
     "output_type": "error",
     "traceback": [
      "\u001b[0;31m---------------------------------------------------------------------------\u001b[0m",
      "\u001b[0;31mTypeError\u001b[0m                                 Traceback (most recent call last)",
      "\u001b[0;32m<ipython-input-5-cfb629ebd18c>\u001b[0m in \u001b[0;36m<module>\u001b[0;34m\u001b[0m\n\u001b[0;32m----> 1\u001b[0;31m \u001b[0mts\u001b[0m\u001b[0;34m.\u001b[0m\u001b[0minfer_delimiters\u001b[0m\u001b[0;34m(\u001b[0m\u001b[0;34m'cst_id'\u001b[0m\u001b[0;34m)\u001b[0m\u001b[0;34m\u001b[0m\u001b[0;34m\u001b[0m\u001b[0m\n\u001b[0m",
      "\u001b[0;31mTypeError\u001b[0m: infer_delimiters() missing 1 required positional argument: 'pattern'"
     ]
    }
   ],
   "source": [
    "ts.infer_delimiters('cst_id')"
   ]
  },
  {
   "cell_type": "code",
   "execution_count": null,
   "id": "712362b3-7186-4974-8e46-f3649dd060a3",
   "metadata": {},
   "outputs": [],
   "source": []
  }
 ],
 "metadata": {
  "kernelspec": {
   "display_name": "Python 3",
   "language": "python",
   "name": "python3"
  },
  "language_info": {
   "codemirror_mode": {
    "name": "ipython",
    "version": 3
   },
   "file_extension": ".py",
   "mimetype": "text/x-python",
   "name": "python",
   "nbconvert_exporter": "python",
   "pygments_lexer": "ipython3",
   "version": "3.8.8"
  }
 },
 "nbformat": 4,
 "nbformat_minor": 5
}
